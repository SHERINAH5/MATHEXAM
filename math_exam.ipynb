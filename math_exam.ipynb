{
 "cells": [
  {
   "cell_type": "markdown",
   "id": "c053f222-2a22-41c7-9fce-1af66f6caffe",
   "metadata": {},
   "source": [
    "## question six"
   ]
  },
  {
   "cell_type": "code",
   "execution_count": 1,
   "id": "b138e3ba-c7b4-4e92-999f-6190bf44ef3c",
   "metadata": {},
   "outputs": [],
   "source": [
    "from numpy import random"
   ]
  },
  {
   "cell_type": "markdown",
   "id": "c7519410-cc34-49c3-a853-f7055fc0ba1f",
   "metadata": {},
   "source": [
    "## poisson distribution"
   ]
  },
  {
   "cell_type": "code",
   "execution_count": 13,
   "id": "770c8599-8170-4f30-894f-4fc9d7f26d63",
   "metadata": {},
   "outputs": [
    {
     "name": "stdout",
     "output_type": "stream",
     "text": [
      "[ 2  3  4  4  3  7  6  4  6  3  2  5  3  6 10  4  1  7  2  4  2 10  2  4\n",
      "  3  6  6  7  6  3  4  3  4  5  6  5  7  5  4  5  4  4  5  4  3  5  8  1\n",
      "  5  0  3  6  3  3  6  7  5  5  7  5  7  3  6  6  6  8  5  5  2  7  5  7\n",
      "  5  3  4  8  1  3  6  5  6  9  4  6  4  7  5  4  5  3 11  3  2  4  2  4\n",
      "  5  4  1  6  3  7  7  9  5  8  3  3  7  6  6  7  5  9  6  6  6  3  6  5\n",
      "  6  3  5  5  5  3  6  3  5  9  5  6  5  3 11  2  5  6  8  6 11  5  3  3\n",
      "  4  8  6  2  4  2  3  7  6  6  4  3  5  5  4  6  6  5  5  2  4  5  7  4\n",
      " 13  5  8  4  5  9  5  6  6  4  3  5  3  4  7  3  7  4  6  2  3  2  7  9\n",
      "  4  2  4  5  6  6  2  3  3  5  6  6 10  2  5  4  8  3  9  6  5  4  4  7\n",
      "  6  4  6  5  7  3  6  5  6  4  0  2  7  4  7  6  3  2  7  4  6  1  6  4\n",
      "  5  5  5  5  4  6  8  4  8  5  6  3  7  4  5  4  5  4  7  8  7  5  4  6\n",
      "  6  5  4  6  4  5  4  2  4  4  3  3  1  5  1  2  5  5  6  3 10  2  8 11\n",
      "  4  5  3  2  5  6  3  5  7  5  4  7  5  5  4  3  2  6  6  2  5  3  3  3\n",
      "  6  6  3  4  5  3  4  8  3  4  8  1  5  3  5  5  2  3  5  5  7  5  4  6\n",
      "  4  8  3  5  4  4  4  5  9  3  4  2  6  6  5  5  7  5  6  3  2  4  7  5\n",
      "  7  5  8  8  7  3  7  1 11  9  8  4  8  4  6  3  7  6  7  5  3  7  9  7\n",
      "  4  4  4  7  4  4  5  8  7  9  3  2  5  4  2  2  6  7  6  2  6 10  7  4\n",
      " 10  9  6 10  5  6  9 11  4  2  5  4  4  9  5  6  0  5  4  2  3  2  4  3\n",
      "  1  3 10  3  7  2  3  4  5  8  7  1  5  3  5  3  3  3  7  6  3  3  6  9\n",
      "  5  5  6  6 10  8  2  4  5  4  4  4  8  3  4  9  6  3  9  6  4  7  7  7\n",
      "  5  4  4  4  3  4  8  6  5  3  4  1  4  6 12  1  7  8  7  2  4 10  7  4\n",
      "  6  8  5  4  2  4  6  5  1  7  6  8  4  5  1  8  5  7  8  8  3  6  5  2\n",
      "  7  7  3  5  3  4  6  5  3  8  6  5  3  2  1  8  3  5  4  8  5  6  5  4\n",
      "  6  7  5  4  5  8  4  9  3  2  3  4  6  1  3  0 10  2  3  3  7  3  7  5\n",
      "  4  6  5  7  6  7  6  7  2  6  8  7  6  7  1  2  6  8  0  6  6  2  6  5\n",
      "  1  2  5  9  6  5  7  4  5  8  3  6  6  4  6  8  3  6  4  6  5  8  4  4\n",
      "  4  2  9  3  6  7  4  7  5  3  7  8  8  8  6  4  4  4 10  4  7  6  4  5\n",
      "  4  3  2  9  4  5  8  4  3  5  5  4  7  6  5  7  9  4  2  2  6  4  6  9\n",
      "  4  4  7  6  4  8  6  5  1 14  5  3  8  1  6  3  4  6  5  7  9  0  7  6\n",
      "  7  4  5  4  9  6  7  8  6  7  7  5  7  4  5  5  5  4  1  9  1  7  5  4\n",
      "  3  5 11  3  7  7  5  4  3  4  6  2  6  6  2  7  6  9  3  5  4  2  4  7\n",
      "  6  5  4  6  5  1  5  7  3  3  2  4  2  4  4 13  7  4  3  7  6  8  4  7\n",
      "  6  3  8  4  5  9  5  4  6  3  4  5  4  2  4  3  7  8  7  6  8  5  6  7\n",
      "  5  4  6  5  4  2  4  6  3  4  4  4  6  5  9  3  6  5  5  5  4  4  5  4\n",
      "  3  0  5  4  6  5  3  2  2  9  5  3  6  9  5  6  2  5  4  7  4  6  8  6\n",
      "  4  2  0  7  5  6  5  7  7  5  7  5  6  4  4  6  9  1  5  3  6  4  2  6\n",
      "  6  6  3  7  7 11  7  3  2  2  4  5  5  7  7  9  7  7  4  5  6  6  5  1\n",
      "  4  3  1  5  4  3  7  5  8  7  4  6  5  2  6  9  4  5  5  3  3  3  5  6\n",
      "  4  7  2  4  5  4  4  5  6  3  7  3  7  2  3  4  6  3  3  2  4  7  8  4\n",
      "  5  4  4  6  3  6  6  4 10  4  4  7  8  4  4  2  2  8  2  3  8  9  5  6\n",
      "  2  3  1  7  6  5  6  7  3  9  1  5  7  5  3  4  5  7  4  5  9  7  6  2\n",
      "  8  1  5  1  2  4  5  2  8  3  3  1  3  3  7  4]\n"
     ]
    }
   ],
   "source": [
    " A = random.poisson( lam = 5, size = (1000))\n",
    "print(A)\n",
    "\n"
   ]
  },
  {
   "cell_type": "code",
   "execution_count": 25,
   "id": "a2dee2d1-e5c7-455a-8531-906188727dce",
   "metadata": {},
   "outputs": [],
   "source": [
    "import numpy as np"
   ]
  },
  {
   "cell_type": "code",
   "execution_count": null,
   "id": "34bb8dc7-a0cf-412b-85f1-9b4aa46161e0",
   "metadata": {},
   "outputs": [],
   "source": [
    "import sca"
   ]
  },
  {
   "cell_type": "code",
   "execution_count": 28,
   "id": "5add73ac-3a06-429e-9082-2f03618ef4e1",
   "metadata": {},
   "outputs": [
    {
     "name": "stdout",
     "output_type": "stream",
     "text": [
      "[0.0017 0.002  0.0023]\n"
     ]
    }
   ],
   "source": [
    "mean = sum(A)/1000\n",
    "print(mean)"
   ]
  },
  {
   "cell_type": "code",
   "execution_count": null,
   "id": "72c8fad1-b353-48a5-a64c-b25cfbf51937",
   "metadata": {},
   "outputs": [],
   "source": []
  },
  {
   "cell_type": "code",
   "execution_count": 32,
   "id": "928f9e9d-93bc-438f-ab25-de9df85a2259",
   "metadata": {},
   "outputs": [
    {
     "ename": "NameError",
     "evalue": "name 'scale' is not defined",
     "output_type": "error",
     "traceback": [
      "\u001b[1;31m---------------------------------------------------------------------------\u001b[0m",
      "\u001b[1;31mNameError\u001b[0m                                 Traceback (most recent call last)",
      "Cell \u001b[1;32mIn[32], line 1\u001b[0m\n\u001b[1;32m----> 1\u001b[0m variance \u001b[38;5;241m=\u001b[39m \u001b[43mscale\u001b[49m\u001b[38;5;241m.\u001b[39mA\n\u001b[0;32m      2\u001b[0m \u001b[38;5;28mprint\u001b[39m(variance)\n",
      "\u001b[1;31mNameError\u001b[0m: name 'scale' is not defined"
     ]
    }
   ],
   "source": [
    "variance = scale.A\n",
    "print(variance)"
   ]
  },
  {
   "cell_type": "code",
   "execution_count": 10,
   "id": "cbdafc07-b762-4f70-b845-d958a75c5d4a",
   "metadata": {},
   "outputs": [],
   "source": [
    "import seaborn as sns"
   ]
  },
  {
   "cell_type": "code",
   "execution_count": 18,
   "id": "70d04206-55b7-40f5-bb85-1ad32f72d85b",
   "metadata": {},
   "outputs": [],
   "source": [
    "import matplotlib.pyplot as plt"
   ]
  },
  {
   "cell_type": "code",
   "execution_count": 19,
   "id": "4be5e6e6-9eaf-4014-8c66-b974998e1138",
   "metadata": {},
   "outputs": [
    {
     "data": {
      "image/png": "[encoded data removed]",
      "text/plain": [
       "<Figure size 640x480 with 1 Axes>"
      ]
     },
     "metadata": {},
     "output_type": "display_data"
    }
   ],
   "source": [
    "poisson_data=random.poisson (lam=5, size=1000)\n",
    "sns.histplot(poisson_data, bins=10, kde=False, color=\"blue\")\n",
    "plt.xlabel(\"values\")\n",
    "plt.ylabel(\"frequencies\")\n",
    "plt.title(\"poisson distribution\")\n",
    "plt.show()   ##plotting a histogram"
   ]
  },
  {
   "cell_type": "code",
   "execution_count": null,
   "id": "920c6351-e94b-4df8-a0f5-e30931d30d7a",
   "metadata": {},
   "outputs": [],
   "source": []
  },
  {
   "cell_type": "code",
   "execution_count": null,
   "id": "c2f75242-96f0-4873-90d9-7091b9d83714",
   "metadata": {},
   "outputs": [],
   "source": []
  },
  {
   "cell_type": "markdown",
   "id": "dff2c535-533a-4a4f-bc0a-1595d8fe4395",
   "metadata": {},
   "source": [
    "## question five"
   ]
  },
  {
   "cell_type": "code",
   "execution_count": 20,
   "id": "d484f62f-91e4-4c3d-a910-45b2cc682211",
   "metadata": {},
   "outputs": [],
   "source": [
    "import numpy as np"
   ]
  },
  {
   "cell_type": "code",
   "execution_count": 22,
   "id": "c675c7c5-f0bb-4b2c-89e8-60b02de909f9",
   "metadata": {},
   "outputs": [
    {
     "name": "stdout",
     "output_type": "stream",
     "text": [
      "[[1.  0.2 0.5]\n",
      " [0.2 1.  0.8]\n",
      " [0.5 0.8 1. ]]\n"
     ]
    }
   ],
   "source": [
    "A = np.array([[1, 0.2, 0.5], [0.2, 1, 0.8], [0.5, 0.8, 1]])\n",
    "print(A)"
   ]
  },
  {
   "cell_type": "code",
   "execution_count": null,
   "id": "8c880e6c-a85f-4ada-961a-ace93a4abe17",
   "metadata": {},
   "outputs": [],
   "source": [
    "##inversion of the matrix\n"
   ]
  },
  {
   "cell_type": "code",
   "execution_count": 23,
   "id": "31047af8-5cf0-4016-9a7c-9dc33b95fdde",
   "metadata": {},
   "outputs": [
    {
     "name": "stdout",
     "output_type": "stream",
     "text": [
      "0.2299999999999999\n"
     ]
    }
   ],
   "source": [
    "determinant = np.linalg.det(A)\n",
    "print(determinant)     ##gettting the determinant of matrix A"
   ]
  },
  {
   "cell_type": "code",
   "execution_count": null,
   "id": "7afe2d03-c497-40f1-a478-2b58a2dfd1b1",
   "metadata": {},
   "outputs": [],
   "source": [
    "##Decomposing the matrix \n",
    "A2 = np.array(decompose)"
   ]
  }
 ],
 "metadata": {
  "kernelspec": {
   "display_name": "Python 3 (ipykernel)",
   "language": "python",
   "name": "python3"
  },
  "language_info": {
   "codemirror_mode": {
    "name": "ipython",
    "version": 3
   },
   "file_extension": ".py",
   "mimetype": "text/x-python",
   "name": "python",
   "nbconvert_exporter": "python",
   "pygments_lexer": "ipython3",
   "version": "3.12.6"
  }
 },
 "nbformat": 4,
 "nbformat_minor": 5
}
